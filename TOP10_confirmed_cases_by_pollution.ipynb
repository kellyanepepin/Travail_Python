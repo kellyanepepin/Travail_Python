{
 "cells": [
  {
   "cell_type": "code",
   "execution_count": 29,
   "metadata": {},
   "outputs": [],
   "source": [
    "import requests \n",
    "import pandas\n",
    "import numpy\n",
    "from datetime import date\n",
    "from datetime import timedelta\n",
    "pandas.options.display.float_format = '{:.2f}'.format\n",
    "\n",
    "# Dans le fichier, le nombre affiché à chaque jour est le nouveau nombre de cas (ou de décès) par région. \n",
    "# À partir du 22 janvier 2020 \n",
    "\n",
    "# Lien pour les CAS (url) : https://raw.githubusercontent.com/CSSEGISandData/COVID-19/master/csse_covid_19_data/csse_covid_19_time_series/time_series_covid19_confirmed_global.csv\n",
    "\n",
    "# Lien pour les RÉTABLISSEMENTS (url2) : https://raw.githubusercontent.com/CSSEGISandData/COVID-19/master/csse_covid_19_data/csse_covid_19_time_series/time_series_covid19_recovered_global.csv\n",
    "\n",
    "# Lien pour les DÉCÈS (url3) : https://raw.githubusercontent.com/CSSEGISandData/COVID-19/master/csse_covid_19_data/csse_covid_19_time_series/time_series_covid19_deaths_global.csv"
   ]
  },
  {
   "cell_type": "code",
   "execution_count": 30,
   "metadata": {},
   "outputs": [],
   "source": [
    "# Variable pour avoir automatiquement la dernière colonne du tableau, soit la dernière journée. \n",
    "today = date.today()\n",
    "hier = today - timedelta (days = 1)\n",
    "hier = hier.strftime(\"%#m/%#d/%y\")"
   ]
  },
  {
   "cell_type": "code",
   "execution_count": 31,
   "metadata": {},
   "outputs": [
    {
     "name": "stdout",
     "output_type": "stream",
     "text": [
      "200\n",
      "Résultat valide.\n"
     ]
    }
   ],
   "source": [
    "# Ajout d'un code d'erreur pour voir si le lien fonctionne avant de procéder au code.\n",
    "url = 'https://raw.githubusercontent.com/CSSEGISandData/COVID-19/master/csse_covid_19_data/csse_covid_19_time_series/time_series_covid19_confirmed_global.csv'\n",
    "\n",
    "try:\n",
    "    r = requests.get(url)\n",
    "\n",
    "except requests.exceptions.RequestException as erreur:\n",
    "    print(\"Erreur de connexion à l'adresse web suivante `{0}` : {1}\".format(url, erreur))\n",
    "\n",
    "else:\n",
    "    print(r.status_code)\n",
    "    \n",
    "    if r.status_code >= 200 and r.status_code <= 299:\n",
    "        print(\"Résultat valide.\")\n",
    "    # Ajout d'erreur pour le serveur, car parfois le serveur de Github ne fonctionne pas.\n",
    "    elif r.status_code >= 500 and r.status_code <= 599:\n",
    "        print(\"Résultat invalide. Erreur dans le serveur, veuillez réessayer plus tard.\")\n",
    "    else:\n",
    "        print(\"Résultat invalide.\")"
   ]
  },
  {
   "cell_type": "code",
   "execution_count": 32,
   "metadata": {},
   "outputs": [
    {
     "data": {
      "text/html": [
       "<div>\n",
       "<style scoped>\n",
       "    .dataframe tbody tr th:only-of-type {\n",
       "        vertical-align: middle;\n",
       "    }\n",
       "\n",
       "    .dataframe tbody tr th {\n",
       "        vertical-align: top;\n",
       "    }\n",
       "\n",
       "    .dataframe thead th {\n",
       "        text-align: right;\n",
       "    }\n",
       "</style>\n",
       "<table border=\"1\" class=\"dataframe\">\n",
       "  <thead>\n",
       "    <tr style=\"text-align: right;\">\n",
       "      <th></th>\n",
       "      <th>Country/Region</th>\n",
       "      <th>4/6/20</th>\n",
       "    </tr>\n",
       "  </thead>\n",
       "  <tbody>\n",
       "    <tr>\n",
       "      <th>0</th>\n",
       "      <td>Afghanistan</td>\n",
       "      <td>367</td>\n",
       "    </tr>\n",
       "    <tr>\n",
       "      <th>1</th>\n",
       "      <td>Albania</td>\n",
       "      <td>377</td>\n",
       "    </tr>\n",
       "    <tr>\n",
       "      <th>2</th>\n",
       "      <td>Algeria</td>\n",
       "      <td>1423</td>\n",
       "    </tr>\n",
       "    <tr>\n",
       "      <th>3</th>\n",
       "      <td>Andorra</td>\n",
       "      <td>525</td>\n",
       "    </tr>\n",
       "    <tr>\n",
       "      <th>4</th>\n",
       "      <td>Angola</td>\n",
       "      <td>16</td>\n",
       "    </tr>\n",
       "    <tr>\n",
       "      <th>...</th>\n",
       "      <td>...</td>\n",
       "      <td>...</td>\n",
       "    </tr>\n",
       "    <tr>\n",
       "      <th>179</th>\n",
       "      <td>Vietnam</td>\n",
       "      <td>245</td>\n",
       "    </tr>\n",
       "    <tr>\n",
       "      <th>180</th>\n",
       "      <td>West Bank and Gaza</td>\n",
       "      <td>254</td>\n",
       "    </tr>\n",
       "    <tr>\n",
       "      <th>181</th>\n",
       "      <td>Western Sahara</td>\n",
       "      <td>4</td>\n",
       "    </tr>\n",
       "    <tr>\n",
       "      <th>182</th>\n",
       "      <td>Zambia</td>\n",
       "      <td>39</td>\n",
       "    </tr>\n",
       "    <tr>\n",
       "      <th>183</th>\n",
       "      <td>Zimbabwe</td>\n",
       "      <td>10</td>\n",
       "    </tr>\n",
       "  </tbody>\n",
       "</table>\n",
       "<p>184 rows × 2 columns</p>\n",
       "</div>"
      ],
      "text/plain": [
       "         Country/Region  4/6/20\n",
       "0           Afghanistan     367\n",
       "1               Albania     377\n",
       "2               Algeria    1423\n",
       "3               Andorra     525\n",
       "4                Angola      16\n",
       "..                  ...     ...\n",
       "179             Vietnam     245\n",
       "180  West Bank and Gaza     254\n",
       "181      Western Sahara       4\n",
       "182              Zambia      39\n",
       "183            Zimbabwe      10\n",
       "\n",
       "[184 rows x 2 columns]"
      ]
     },
     "execution_count": 32,
     "metadata": {},
     "output_type": "execute_result"
    }
   ],
   "source": [
    "# Importer le fichier (datac = données cas confirmés)\n",
    "rawdatac = pandas.read_csv(url, delimiter=',').fillna('N.D.')\n",
    "\n",
    "# Remplacer certains noms dans le fichier pour faire le bon joint avec le deuxième fichier plus tard \n",
    "datac_replace = rawdatac.replace(\"US\",\"United States\").replace(\"Iran\",\"Iran, Islamic Rep.\")\n",
    "\n",
    "# Faire la somme de cas par pays (et non pas par région)\n",
    "datac_group = datac_replace.groupby([\"Country/Region\"])[[hier]].sum()\n",
    "\n",
    "# Nouveau tableau\n",
    "datac_new = datac_group.reset_index()\n",
    "datac_new"
   ]
  },
  {
   "cell_type": "code",
   "execution_count": 39,
   "metadata": {},
   "outputs": [
    {
     "data": {
      "text/html": [
       "<div>\n",
       "<style scoped>\n",
       "    .dataframe tbody tr th:only-of-type {\n",
       "        vertical-align: middle;\n",
       "    }\n",
       "\n",
       "    .dataframe tbody tr th {\n",
       "        vertical-align: top;\n",
       "    }\n",
       "\n",
       "    .dataframe thead th {\n",
       "        text-align: right;\n",
       "    }\n",
       "</style>\n",
       "<table border=\"1\" class=\"dataframe\">\n",
       "  <thead>\n",
       "    <tr style=\"text-align: right;\">\n",
       "      <th></th>\n",
       "      <th>Country/Region</th>\n",
       "      <th>2017</th>\n",
       "      <th>4/6/20</th>\n",
       "    </tr>\n",
       "  </thead>\n",
       "  <tbody>\n",
       "    <tr>\n",
       "      <th>206</th>\n",
       "      <td>United States</td>\n",
       "      <td>8.00</td>\n",
       "      <td>366667.00</td>\n",
       "    </tr>\n",
       "    <tr>\n",
       "      <th>179</th>\n",
       "      <td>Spain</td>\n",
       "      <td>10.00</td>\n",
       "      <td>136675.00</td>\n",
       "    </tr>\n",
       "    <tr>\n",
       "      <th>205</th>\n",
       "      <td>United Kingdom</td>\n",
       "      <td>11.00</td>\n",
       "      <td>52279.00</td>\n",
       "    </tr>\n",
       "    <tr>\n",
       "      <th>188</th>\n",
       "      <td>Switzerland</td>\n",
       "      <td>11.00</td>\n",
       "      <td>21657.00</td>\n",
       "    </tr>\n",
       "    <tr>\n",
       "      <th>73</th>\n",
       "      <td>Germany</td>\n",
       "      <td>12.00</td>\n",
       "      <td>103374.00</td>\n",
       "    </tr>\n",
       "    <tr>\n",
       "      <th>68</th>\n",
       "      <td>France</td>\n",
       "      <td>12.00</td>\n",
       "      <td>98963.00</td>\n",
       "    </tr>\n",
       "    <tr>\n",
       "      <th>96</th>\n",
       "      <td>Italy</td>\n",
       "      <td>17.00</td>\n",
       "      <td>132547.00</td>\n",
       "    </tr>\n",
       "    <tr>\n",
       "      <th>91</th>\n",
       "      <td>Iran, Islamic Rep.</td>\n",
       "      <td>39.00</td>\n",
       "      <td>60500.00</td>\n",
       "    </tr>\n",
       "    <tr>\n",
       "      <th>198</th>\n",
       "      <td>Turkey</td>\n",
       "      <td>45.00</td>\n",
       "      <td>30217.00</td>\n",
       "    </tr>\n",
       "    <tr>\n",
       "      <th>41</th>\n",
       "      <td>China</td>\n",
       "      <td>53.00</td>\n",
       "      <td>82665.00</td>\n",
       "    </tr>\n",
       "  </tbody>\n",
       "</table>\n",
       "</div>"
      ],
      "text/plain": [
       "         Country/Region  2017    4/6/20\n",
       "206       United States  8.00 366667.00\n",
       "179               Spain 10.00 136675.00\n",
       "205      United Kingdom 11.00  52279.00\n",
       "188         Switzerland 11.00  21657.00\n",
       "73              Germany 12.00 103374.00\n",
       "68               France 12.00  98963.00\n",
       "96                Italy 17.00 132547.00\n",
       "91   Iran, Islamic Rep. 39.00  60500.00\n",
       "198              Turkey 45.00  30217.00\n",
       "41                China 53.00  82665.00"
      ]
     },
     "execution_count": 39,
     "metadata": {},
     "output_type": "execute_result"
    }
   ],
   "source": [
    "# Importer le fichier csv de la World Bank (Pop = population).\n",
    "data_air = pandas.read_csv('Data_Air.csv', sep=';').fillna('N.D.')\n",
    "\n",
    "# Changer les données afin de pouvoir les mettre en ordre décroissant\n",
    "data_air['2017'] = pandas.to_numeric(data_air['2017'], errors='coerce')\n",
    "data_air['2017'] = data_air['2017'].apply(numpy.ceil)\n",
    "\n",
    "# Faire le joint entre les deux fichiers selon le pays et ensuite trier le fichier selon la date\n",
    "datac_full = data_air.join(datac_new.set_index('Country/Region'), on='Country/Region')\n",
    "datac_full_iloc = datac_full.iloc[:,[0,-2,-1]]\n",
    "datac_values = datac_full_iloc.sort_values(by=[hier], ascending=False).head(10)\n",
    "datac_final = datac_values.sort_values(by=['2017'])\n",
    "datac_final"
   ]
  },
  {
   "cell_type": "code",
   "execution_count": 40,
   "metadata": {},
   "outputs": [
    {
     "data": {
      "text/plain": [
       "Text(0, 0.5, 'Nb. de cas confirmés')"
      ]
     },
     "execution_count": 40,
     "metadata": {},
     "output_type": "execute_result"
    },
    {
     "data": {
      "image/png": "[encoded data removed]",
      "text/plain": [
       "<Figure size 432x288 with 1 Axes>"
      ]
     },
     "metadata": {
      "needs_background": "light"
     },
     "output_type": "display_data"
    }
   ],
   "source": [
    "# Importer ce qui est nécessaire pour faire le graphique\n",
    "import seaborn \n",
    "import matplotlib.pyplot\n",
    "\n",
    "# y = 2017, car c'est l'année la plus récente où nous avons le taux de pollution de chaque pays du top 10. \n",
    "seaborn.scatterplot(x='2017', y=hier, hue='Country/Region', data= datac_final)\n",
    "matplotlib.pyplot.title(\"Nombre de cas confirmés selon la pollution \\n (par pays)\")\n",
    "matplotlib.pyplot.xlabel(\"Taux de pollution\")\n",
    "matplotlib.pyplot.ylabel(\"Nb. de cas confirmés\")"
   ]
  },
  {
   "cell_type": "code",
   "execution_count": null,
   "metadata": {},
   "outputs": [],
   "source": []
  }
 ],
 "metadata": {
  "kernelspec": {
   "display_name": "Python 3",
   "language": "python",
   "name": "python3"
  },
  "language_info": {
   "codemirror_mode": {
    "name": "ipython",
    "version": 3
   },
   "file_extension": ".py",
   "mimetype": "text/x-python",
   "name": "python",
   "nbconvert_exporter": "python",
   "pygments_lexer": "ipython3",
   "version": "3.7.4"
  }
 },
 "nbformat": 4,
 "nbformat_minor": 2
}
