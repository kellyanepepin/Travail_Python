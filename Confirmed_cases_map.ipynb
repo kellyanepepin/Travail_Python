{
 "cells": [
  {
   "cell_type": "code",
   "execution_count": 2,
   "metadata": {},
   "outputs": [
    {
     "data": {
      "text/plain": [
       "'covid_csv.html'"
      ]
     },
     "execution_count": 2,
     "metadata": {},
     "output_type": "execute_result"
    }
   ],
   "source": [
    "import requests\n",
    "from contextlib import closing\n",
    "import csv\n",
    "from plotly.graph_objs import Scattergeo, Layout\n",
    "from plotly import offline \n",
    "\n",
    "# Définition des variables et listes requises\n",
    "url = 'https://raw.githubusercontent.com/CSSEGISandData/COVID-19/master/csse_covid_19_data/csse_covid_19_time_series/time_series_covid19_confirmed_global.csv'\n",
    "confirmed_list = []\n",
    "lons = []\n",
    "lats = []\n",
    "texts = []\n",
    "\n",
    "# Pour pouvoir lire le url en fichier csv sans utiliser les pandas\n",
    "with closing(requests.get(url, stream=True)) as r:\n",
    "    f = (line.decode('utf-8') for line in r.iter_lines())\n",
    "    reader = csv.reader(f, delimiter=',', quotechar='\"')\n",
    "    for x in reader:\n",
    "        # le [-1] nous permet d'obtenir les données les plus à jour (la dernière date enregistrée)\n",
    "        confirmed = x[-1]\n",
    "        lon = x[3]\n",
    "        lat = x[2]\n",
    "        title = x[1]\n",
    "        provinces = x[0]\n",
    "        \n",
    "        # Append chaque item à la liste correspondante\n",
    "        confirmed_list.append(confirmed)\n",
    "        lons.append(lon)\n",
    "        lats.append(lat)\n",
    "        texts.append(provinces+ '\\n' + title + '\\n' + confirmed)\n",
    "        # Pour convertir les items de la liste en int\n",
    "        liste = [ int(y) for y in confirmed_list[1:]]\n",
    "        \n",
    "# Préparation du graphique\n",
    "graph_data = [{\n",
    "    'type': 'scattergeo',\n",
    "    'lon': lons[1:],\n",
    "    'lat': lats[1:],\n",
    "    'text': texts[1:],\n",
    "    'marker': {\n",
    "        'size': 2*int(confirmed),\n",
    "        'color': liste,\n",
    "        'colorscale': 'jet', \n",
    "        'colorbar': {'title': 'Nombre de cas'},\n",
    "    },\n",
    "}]\n",
    "# Titre du graphique\n",
    "graph_layout = Layout(title='Cas Confirmés - COVID-19')\n",
    "\n",
    "# Génération du graphique, comme fichier externe 'covid_csv.html'\n",
    "fig = {'data': graph_data, 'layout': graph_layout}\n",
    "\n",
    "offline.plot(fig, filename='covid_csv.html')"
   ]
  },
  {
   "cell_type": "code",
   "execution_count": null,
   "metadata": {},
   "outputs": [],
   "source": []
  }
 ],
 "metadata": {
  "kernelspec": {
   "display_name": "Python 3",
   "language": "python",
   "name": "python3"
  },
  "language_info": {
   "codemirror_mode": {
    "name": "ipython",
    "version": 3
   },
   "file_extension": ".py",
   "mimetype": "text/x-python",
   "name": "python",
   "nbconvert_exporter": "python",
   "pygments_lexer": "ipython3",
   "version": "3.7.4"
  }
 },
 "nbformat": 4,
 "nbformat_minor": 2
}
