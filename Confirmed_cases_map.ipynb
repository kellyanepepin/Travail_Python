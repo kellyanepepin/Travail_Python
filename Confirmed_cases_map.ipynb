{
 "cells": [
  {
   "cell_type": "code",
   "execution_count": 5,
   "metadata": {},
   "outputs": [
    {
     "data": {
      "text/plain": [
       "'covid_csv.html'"
      ]
     },
     "execution_count": 5,
     "metadata": {},
     "output_type": "execute_result"
    }
   ],
   "source": [
    "import requests\n",
    "from contextlib import closing\n",
    "import csv\n",
    "from plotly.graph_objs import Scattergeo, Layout\n",
    "from plotly import offline\n",
    "\n",
    "url = 'https://raw.githubusercontent.com/CSSEGISandData/COVID-19/master/csse_covid_19_data/csse_covid_19_time_series/time_series_covid19_confirmed_global.csv'\n",
    "confirmed_list = []\n",
    "lons = []\n",
    "lats = []\n",
    "texts = []\n",
    "\n",
    "\n",
    "with closing(requests.get(url, stream=True)) as r:\n",
    "    f = (line.decode('utf-8') for line in r.iter_lines())\n",
    "    reader = csv.reader(f, delimiter=',', quotechar='\"')\n",
    "    for x in reader:\n",
    "        confirmed = x[-1]\n",
    "        lon = x[3]\n",
    "        lat = x[2]\n",
    "        title = x[1]\n",
    "        provinces = x[0]\n",
    "\n",
    "        confirmed_list.append(confirmed)\n",
    "        lons.append(lon)\n",
    "        lats.append(lat)\n",
    "        texts.append(provinces+ '\\n' + title + '\\n' + confirmed)\n",
    "        del confirmed_list[0]\n",
    "        \n",
    "# Préparation du graphique\n",
    "graph_data = [{\n",
    "    'type': 'scattergeo',\n",
    "    'lon': lons,\n",
    "    'lat': lats,\n",
    "    'text': texts,\n",
    "    'marker': {\n",
    "        'size': 4*int(confirmed),\n",
    "        'color': confirmed_list,\n",
    "        'colorscale': 'Cividis', # autre options 'RdBu', 'Cividis'\n",
    "        'colorbar': {'title': 'Nombre de cas'},\n",
    "    },\n",
    "}]\n",
    "# Titre du graphique\n",
    "graph_layout = Layout(title='Cas Confirmés - COVID-19')\n",
    "\n",
    "# Génération du graphique, comme fichier externe 'covid.html'\n",
    "fig = {'data': graph_data, 'layout': graph_layout}\n",
    "\n",
    "offline.plot(fig, filename='covid_csv.html')"
   ]
  },
  {
   "cell_type": "code",
   "execution_count": null,
   "metadata": {},
   "outputs": [],
   "source": []
  }
 ],
 "metadata": {
  "kernelspec": {
   "display_name": "Python 3",
   "language": "python",
   "name": "python3"
  },
  "language_info": {
   "codemirror_mode": {
    "name": "ipython",
    "version": 3
   },
   "file_extension": ".py",
   "mimetype": "text/x-python",
   "name": "python",
   "nbconvert_exporter": "python",
   "pygments_lexer": "ipython3",
   "version": "3.7.4"
  }
 },
 "nbformat": 4,
 "nbformat_minor": 2
}
